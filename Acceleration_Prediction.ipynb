{
 "cells": [
  {
   "cell_type": "code",
   "execution_count": 2,
   "metadata": {},
   "outputs": [],
   "source": [
    "import pandas as pd\n",
    "import numpy as np\n",
    "import seaborn as sns\n",
    "import matplotlib.pyplot as plt\n",
    "import sklearn\n",
    "from sklearn.preprocessing import StandardScaler\n",
    "from sklearn.metrics import log_loss"
   ]
  },
  {
   "cell_type": "markdown",
   "metadata": {},
   "source": [
    "# Acceleration Data"
   ]
  },
  {
   "cell_type": "markdown",
   "metadata": {},
   "source": [
    "Since the accel.csv file is extremely large, I randomly selected 100,000 rows. Then I removed any rows containing infinite and NaN values. Since the original distribution of paitents were approximatly evenly split between patients with Parkinson's and without Parkinson's, I randomly sampled 500 rows of each group."
   ]
  },
  {
   "cell_type": "code",
   "execution_count": 3,
   "metadata": {},
   "outputs": [
    {
     "data": {
      "text/html": [
       "<div>\n",
       "<style scoped>\n",
       "    .dataframe tbody tr th:only-of-type {\n",
       "        vertical-align: middle;\n",
       "    }\n",
       "\n",
       "    .dataframe tbody tr th {\n",
       "        vertical-align: top;\n",
       "    }\n",
       "\n",
       "    .dataframe thead th {\n",
       "        text-align: right;\n",
       "    }\n",
       "</style>\n",
       "<table border=\"1\" class=\"dataframe\">\n",
       "  <thead>\n",
       "    <tr style=\"text-align: right;\">\n",
       "      <th></th>\n",
       "      <th>diffSecs</th>\n",
       "      <th>N.samples</th>\n",
       "      <th>x.mean</th>\n",
       "      <th>x.absolute.deviation</th>\n",
       "      <th>x.standard.deviation</th>\n",
       "      <th>x.max.deviation</th>\n",
       "      <th>x.PSD.1</th>\n",
       "      <th>x.PSD.3</th>\n",
       "      <th>x.PSD.6</th>\n",
       "      <th>x.PSD.10</th>\n",
       "      <th>...</th>\n",
       "      <th>z.mean</th>\n",
       "      <th>z.absolute.deviation</th>\n",
       "      <th>z.standard.deviation</th>\n",
       "      <th>z.max.deviation</th>\n",
       "      <th>z.PSD.1</th>\n",
       "      <th>z.PSD.3</th>\n",
       "      <th>z.PSD.6</th>\n",
       "      <th>z.PSD.10</th>\n",
       "      <th>time</th>\n",
       "      <th>PK</th>\n",
       "    </tr>\n",
       "  </thead>\n",
       "  <tbody>\n",
       "    <tr>\n",
       "      <td>254</td>\n",
       "      <td>1.066560</td>\n",
       "      <td>40</td>\n",
       "      <td>-0.284883</td>\n",
       "      <td>0.032877</td>\n",
       "      <td>0.041603</td>\n",
       "      <td>0.097576</td>\n",
       "      <td>0.000390</td>\n",
       "      <td>0.000400</td>\n",
       "      <td>0.017195</td>\n",
       "      <td>0.061779</td>\n",
       "      <td>...</td>\n",
       "      <td>9.690441</td>\n",
       "      <td>0.041065</td>\n",
       "      <td>0.049790</td>\n",
       "      <td>0.106403</td>\n",
       "      <td>0.040930</td>\n",
       "      <td>0.047452</td>\n",
       "      <td>0.030301</td>\n",
       "      <td>0.042450</td>\n",
       "      <td>2011-12-21 16:08:53</td>\n",
       "      <td>0</td>\n",
       "    </tr>\n",
       "    <tr>\n",
       "      <td>285</td>\n",
       "      <td>1.009638</td>\n",
       "      <td>50</td>\n",
       "      <td>-0.440122</td>\n",
       "      <td>0.030299</td>\n",
       "      <td>0.035772</td>\n",
       "      <td>0.079630</td>\n",
       "      <td>0.169917</td>\n",
       "      <td>0.253842</td>\n",
       "      <td>0.148406</td>\n",
       "      <td>0.044020</td>\n",
       "      <td>...</td>\n",
       "      <td>9.635622</td>\n",
       "      <td>0.056000</td>\n",
       "      <td>0.068117</td>\n",
       "      <td>0.151415</td>\n",
       "      <td>0.087352</td>\n",
       "      <td>0.054855</td>\n",
       "      <td>0.597366</td>\n",
       "      <td>0.342012</td>\n",
       "      <td>2011-12-21 16:09:25</td>\n",
       "      <td>0</td>\n",
       "    </tr>\n",
       "    <tr>\n",
       "      <td>299</td>\n",
       "      <td>1.096225</td>\n",
       "      <td>43</td>\n",
       "      <td>-0.751235</td>\n",
       "      <td>0.084701</td>\n",
       "      <td>0.111254</td>\n",
       "      <td>0.307883</td>\n",
       "      <td>0.020181</td>\n",
       "      <td>0.518494</td>\n",
       "      <td>0.484914</td>\n",
       "      <td>0.527556</td>\n",
       "      <td>...</td>\n",
       "      <td>9.508801</td>\n",
       "      <td>0.097918</td>\n",
       "      <td>0.132772</td>\n",
       "      <td>0.359197</td>\n",
       "      <td>0.000014</td>\n",
       "      <td>0.164295</td>\n",
       "      <td>0.862480</td>\n",
       "      <td>1.563894</td>\n",
       "      <td>2011-12-21 16:09:39</td>\n",
       "      <td>0</td>\n",
       "    </tr>\n",
       "    <tr>\n",
       "      <td>575</td>\n",
       "      <td>1.018218</td>\n",
       "      <td>48</td>\n",
       "      <td>-0.034528</td>\n",
       "      <td>0.021435</td>\n",
       "      <td>0.024679</td>\n",
       "      <td>0.044334</td>\n",
       "      <td>0.001830</td>\n",
       "      <td>0.046631</td>\n",
       "      <td>0.047705</td>\n",
       "      <td>0.006947</td>\n",
       "      <td>...</td>\n",
       "      <td>9.982556</td>\n",
       "      <td>0.034144</td>\n",
       "      <td>0.041141</td>\n",
       "      <td>0.107260</td>\n",
       "      <td>0.151021</td>\n",
       "      <td>0.242209</td>\n",
       "      <td>0.082224</td>\n",
       "      <td>0.071342</td>\n",
       "      <td>2011-12-21 16:20:48</td>\n",
       "      <td>0</td>\n",
       "    </tr>\n",
       "    <tr>\n",
       "      <td>618</td>\n",
       "      <td>1.002498</td>\n",
       "      <td>44</td>\n",
       "      <td>-0.660834</td>\n",
       "      <td>0.218715</td>\n",
       "      <td>0.257771</td>\n",
       "      <td>0.486544</td>\n",
       "      <td>4.678925</td>\n",
       "      <td>8.932974</td>\n",
       "      <td>5.445445</td>\n",
       "      <td>0.173025</td>\n",
       "      <td>...</td>\n",
       "      <td>6.886051</td>\n",
       "      <td>0.201523</td>\n",
       "      <td>0.248683</td>\n",
       "      <td>0.606229</td>\n",
       "      <td>8.137277</td>\n",
       "      <td>9.607136</td>\n",
       "      <td>1.943282</td>\n",
       "      <td>0.251455</td>\n",
       "      <td>2011-12-21 18:39:21</td>\n",
       "      <td>0</td>\n",
       "    </tr>\n",
       "  </tbody>\n",
       "</table>\n",
       "<p>5 rows × 28 columns</p>\n",
       "</div>"
      ],
      "text/plain": [
       "     diffSecs  N.samples    x.mean  x.absolute.deviation  \\\n",
       "254  1.066560         40 -0.284883              0.032877   \n",
       "285  1.009638         50 -0.440122              0.030299   \n",
       "299  1.096225         43 -0.751235              0.084701   \n",
       "575  1.018218         48 -0.034528              0.021435   \n",
       "618  1.002498         44 -0.660834              0.218715   \n",
       "\n",
       "     x.standard.deviation  x.max.deviation   x.PSD.1   x.PSD.3   x.PSD.6  \\\n",
       "254              0.041603         0.097576  0.000390  0.000400  0.017195   \n",
       "285              0.035772         0.079630  0.169917  0.253842  0.148406   \n",
       "299              0.111254         0.307883  0.020181  0.518494  0.484914   \n",
       "575              0.024679         0.044334  0.001830  0.046631  0.047705   \n",
       "618              0.257771         0.486544  4.678925  8.932974  5.445445   \n",
       "\n",
       "     x.PSD.10  ...    z.mean  z.absolute.deviation  z.standard.deviation  \\\n",
       "254  0.061779  ...  9.690441              0.041065              0.049790   \n",
       "285  0.044020  ...  9.635622              0.056000              0.068117   \n",
       "299  0.527556  ...  9.508801              0.097918              0.132772   \n",
       "575  0.006947  ...  9.982556              0.034144              0.041141   \n",
       "618  0.173025  ...  6.886051              0.201523              0.248683   \n",
       "\n",
       "     z.max.deviation   z.PSD.1   z.PSD.3   z.PSD.6  z.PSD.10  \\\n",
       "254         0.106403  0.040930  0.047452  0.030301  0.042450   \n",
       "285         0.151415  0.087352  0.054855  0.597366  0.342012   \n",
       "299         0.359197  0.000014  0.164295  0.862480  1.563894   \n",
       "575         0.107260  0.151021  0.242209  0.082224  0.071342   \n",
       "618         0.606229  8.137277  9.607136  1.943282  0.251455   \n",
       "\n",
       "                    time  PK  \n",
       "254  2011-12-21 16:08:53   0  \n",
       "285  2011-12-21 16:09:25   0  \n",
       "299  2011-12-21 16:09:39   0  \n",
       "575  2011-12-21 16:20:48   0  \n",
       "618  2011-12-21 18:39:21   0  \n",
       "\n",
       "[5 rows x 28 columns]"
      ]
     },
     "execution_count": 3,
     "metadata": {},
     "output_type": "execute_result"
    }
   ],
   "source": [
    "import random\n",
    "\n",
    "n = 11980382 #number of records in file (excludes header)\n",
    "s = 100000 #desired sample size\n",
    "skip = sorted(random.sample(range(1,n+1),n-s))\n",
    "\n",
    "df = pd.read_csv('accel.csv', index_col=0, skiprows=skip)\n",
    "df.head()"
   ]
  },
  {
   "cell_type": "code",
   "execution_count": 4,
   "metadata": {},
   "outputs": [
    {
     "data": {
      "text/html": [
       "<div>\n",
       "<style scoped>\n",
       "    .dataframe tbody tr th:only-of-type {\n",
       "        vertical-align: middle;\n",
       "    }\n",
       "\n",
       "    .dataframe tbody tr th {\n",
       "        vertical-align: top;\n",
       "    }\n",
       "\n",
       "    .dataframe thead th {\n",
       "        text-align: right;\n",
       "    }\n",
       "</style>\n",
       "<table border=\"1\" class=\"dataframe\">\n",
       "  <thead>\n",
       "    <tr style=\"text-align: right;\">\n",
       "      <th></th>\n",
       "      <th>diffSecs</th>\n",
       "      <th>N.samples</th>\n",
       "      <th>x.mean</th>\n",
       "      <th>x.absolute.deviation</th>\n",
       "      <th>x.standard.deviation</th>\n",
       "      <th>x.max.deviation</th>\n",
       "      <th>x.PSD.1</th>\n",
       "      <th>x.PSD.3</th>\n",
       "      <th>x.PSD.6</th>\n",
       "      <th>x.PSD.10</th>\n",
       "      <th>...</th>\n",
       "      <th>y.PSD.10</th>\n",
       "      <th>z.mean</th>\n",
       "      <th>z.absolute.deviation</th>\n",
       "      <th>z.standard.deviation</th>\n",
       "      <th>z.max.deviation</th>\n",
       "      <th>z.PSD.1</th>\n",
       "      <th>z.PSD.3</th>\n",
       "      <th>z.PSD.6</th>\n",
       "      <th>z.PSD.10</th>\n",
       "      <th>PK</th>\n",
       "    </tr>\n",
       "  </thead>\n",
       "  <tbody>\n",
       "    <tr>\n",
       "      <td>12096044</td>\n",
       "      <td>1.012</td>\n",
       "      <td>35</td>\n",
       "      <td>6.750618</td>\n",
       "      <td>0.111900</td>\n",
       "      <td>0.143288</td>\n",
       "      <td>0.300364</td>\n",
       "      <td>0.296985</td>\n",
       "      <td>1.186820</td>\n",
       "      <td>1.423667</td>\n",
       "      <td>0.346237</td>\n",
       "      <td>...</td>\n",
       "      <td>0.912825</td>\n",
       "      <td>-1.301763</td>\n",
       "      <td>0.213024</td>\n",
       "      <td>0.259378</td>\n",
       "      <td>0.556457</td>\n",
       "      <td>1.507659</td>\n",
       "      <td>4.859704</td>\n",
       "      <td>6.589732</td>\n",
       "      <td>1.981934</td>\n",
       "      <td>1</td>\n",
       "    </tr>\n",
       "    <tr>\n",
       "      <td>12215352</td>\n",
       "      <td>1.009</td>\n",
       "      <td>43</td>\n",
       "      <td>4.134529</td>\n",
       "      <td>0.209414</td>\n",
       "      <td>0.264515</td>\n",
       "      <td>0.562856</td>\n",
       "      <td>6.330236</td>\n",
       "      <td>7.891645</td>\n",
       "      <td>6.733434</td>\n",
       "      <td>1.071827</td>\n",
       "      <td>...</td>\n",
       "      <td>0.042477</td>\n",
       "      <td>-8.807511</td>\n",
       "      <td>0.206984</td>\n",
       "      <td>0.237622</td>\n",
       "      <td>0.479386</td>\n",
       "      <td>0.047688</td>\n",
       "      <td>1.353027</td>\n",
       "      <td>3.290413</td>\n",
       "      <td>2.265099</td>\n",
       "      <td>1</td>\n",
       "    </tr>\n",
       "    <tr>\n",
       "      <td>2744272</td>\n",
       "      <td>1.000</td>\n",
       "      <td>79</td>\n",
       "      <td>8.633188</td>\n",
       "      <td>0.145035</td>\n",
       "      <td>0.176908</td>\n",
       "      <td>0.388163</td>\n",
       "      <td>0.000305</td>\n",
       "      <td>9.334192</td>\n",
       "      <td>6.018091</td>\n",
       "      <td>2.317132</td>\n",
       "      <td>...</td>\n",
       "      <td>1.241906</td>\n",
       "      <td>-3.492504</td>\n",
       "      <td>0.095851</td>\n",
       "      <td>0.123563</td>\n",
       "      <td>0.447079</td>\n",
       "      <td>1.269823</td>\n",
       "      <td>1.188564</td>\n",
       "      <td>0.877476</td>\n",
       "      <td>1.201407</td>\n",
       "      <td>1</td>\n",
       "    </tr>\n",
       "    <tr>\n",
       "      <td>12003709</td>\n",
       "      <td>1.016</td>\n",
       "      <td>34</td>\n",
       "      <td>3.059675</td>\n",
       "      <td>0.073261</td>\n",
       "      <td>0.092699</td>\n",
       "      <td>0.205940</td>\n",
       "      <td>0.245007</td>\n",
       "      <td>0.309767</td>\n",
       "      <td>0.116339</td>\n",
       "      <td>0.067091</td>\n",
       "      <td>...</td>\n",
       "      <td>0.007794</td>\n",
       "      <td>-9.274495</td>\n",
       "      <td>0.032745</td>\n",
       "      <td>0.038960</td>\n",
       "      <td>0.075858</td>\n",
       "      <td>0.011687</td>\n",
       "      <td>0.014748</td>\n",
       "      <td>0.007759</td>\n",
       "      <td>0.018768</td>\n",
       "      <td>1</td>\n",
       "    </tr>\n",
       "    <tr>\n",
       "      <td>12252697</td>\n",
       "      <td>1.007</td>\n",
       "      <td>44</td>\n",
       "      <td>1.756505</td>\n",
       "      <td>0.132218</td>\n",
       "      <td>0.148758</td>\n",
       "      <td>0.302892</td>\n",
       "      <td>1.010824</td>\n",
       "      <td>3.266822</td>\n",
       "      <td>1.478573</td>\n",
       "      <td>0.283652</td>\n",
       "      <td>...</td>\n",
       "      <td>0.137819</td>\n",
       "      <td>-9.387861</td>\n",
       "      <td>0.065172</td>\n",
       "      <td>0.078803</td>\n",
       "      <td>0.193235</td>\n",
       "      <td>0.036434</td>\n",
       "      <td>0.208543</td>\n",
       "      <td>0.978749</td>\n",
       "      <td>0.234471</td>\n",
       "      <td>1</td>\n",
       "    </tr>\n",
       "  </tbody>\n",
       "</table>\n",
       "<p>5 rows × 27 columns</p>\n",
       "</div>"
      ],
      "text/plain": [
       "          diffSecs  N.samples    x.mean  x.absolute.deviation  \\\n",
       "12096044     1.012         35  6.750618              0.111900   \n",
       "12215352     1.009         43  4.134529              0.209414   \n",
       "2744272      1.000         79  8.633188              0.145035   \n",
       "12003709     1.016         34  3.059675              0.073261   \n",
       "12252697     1.007         44  1.756505              0.132218   \n",
       "\n",
       "          x.standard.deviation  x.max.deviation   x.PSD.1   x.PSD.3   x.PSD.6  \\\n",
       "12096044              0.143288         0.300364  0.296985  1.186820  1.423667   \n",
       "12215352              0.264515         0.562856  6.330236  7.891645  6.733434   \n",
       "2744272               0.176908         0.388163  0.000305  9.334192  6.018091   \n",
       "12003709              0.092699         0.205940  0.245007  0.309767  0.116339   \n",
       "12252697              0.148758         0.302892  1.010824  3.266822  1.478573   \n",
       "\n",
       "          x.PSD.10  ...  y.PSD.10    z.mean  z.absolute.deviation  \\\n",
       "12096044  0.346237  ...  0.912825 -1.301763              0.213024   \n",
       "12215352  1.071827  ...  0.042477 -8.807511              0.206984   \n",
       "2744272   2.317132  ...  1.241906 -3.492504              0.095851   \n",
       "12003709  0.067091  ...  0.007794 -9.274495              0.032745   \n",
       "12252697  0.283652  ...  0.137819 -9.387861              0.065172   \n",
       "\n",
       "          z.standard.deviation  z.max.deviation   z.PSD.1   z.PSD.3   z.PSD.6  \\\n",
       "12096044              0.259378         0.556457  1.507659  4.859704  6.589732   \n",
       "12215352              0.237622         0.479386  0.047688  1.353027  3.290413   \n",
       "2744272               0.123563         0.447079  1.269823  1.188564  0.877476   \n",
       "12003709              0.038960         0.075858  0.011687  0.014748  0.007759   \n",
       "12252697              0.078803         0.193235  0.036434  0.208543  0.978749   \n",
       "\n",
       "          z.PSD.10  PK  \n",
       "12096044  1.981934   1  \n",
       "12215352  2.265099   1  \n",
       "2744272   1.201407   1  \n",
       "12003709  0.018768   1  \n",
       "12252697  0.234471   1  \n",
       "\n",
       "[5 rows x 27 columns]"
      ]
     },
     "execution_count": 4,
     "metadata": {},
     "output_type": "execute_result"
    }
   ],
   "source": [
    "df = df.replace([np.inf, -np.inf], np.nan)\n",
    "df = df.dropna()\n",
    "df_freq_motion_1 = df[df['PK'] == 1].sample(n=500, replace=False)\n",
    "df_freq_motion_0 = df[df['PK'] == 0].sample(n=500, replace=False)\n",
    "df = pd.concat([df_freq_motion_1, df_freq_motion_0])\n",
    "df = df.drop(columns=['time'])\n",
    "df.head()"
   ]
  },
  {
   "cell_type": "markdown",
   "metadata": {},
   "source": [
    "# Basic Logistic Regression"
   ]
  },
  {
   "cell_type": "markdown",
   "metadata": {},
   "source": [
    "Ran a basic logisistic regression model with 5-fold cross validation as a benchmark model."
   ]
  },
  {
   "cell_type": "markdown",
   "metadata": {},
   "source": [
    "The data has been standarized such that the mean of each feature is 0 and has a standard deviation of 0. This allows the model weights to be calculated more accurately and faster during gradient descent. This would be helpful when using the larger data."
   ]
  },
  {
   "cell_type": "code",
   "execution_count": 5,
   "metadata": {},
   "outputs": [
    {
     "data": {
      "text/plain": [
       "0.7333333333333333"
      ]
     },
     "execution_count": 5,
     "metadata": {},
     "output_type": "execute_result"
    }
   ],
   "source": [
    "scaler = StandardScaler()\n",
    "training_data = df.iloc[:,0:26]\n",
    "scaler.fit(training_data)\n",
    "training_data_scaled = scaler.transform(training_data)\n",
    "\n",
    "from sklearn.model_selection import train_test_split\n",
    "from sklearn.linear_model import LogisticRegressionCV\n",
    "X_train, X_test, y_train, y_test = train_test_split(training_data_scaled, df['PK'], test_size=0.33, random_state=42)\n",
    "clf = LogisticRegressionCV(cv=5, random_state=42, max_iter=10000).fit(X_train, y_train)\n",
    "clf.score(X_test, y_test)"
   ]
  },
  {
   "cell_type": "markdown",
   "metadata": {},
   "source": [
    "# With Total Acceleration Added In"
   ]
  },
  {
   "cell_type": "markdown",
   "metadata": {},
   "source": [
    "Since the data had x, y, and z mean, I was interested if adding the total acceleration (calculated by the L2 norm) would serve as a more useful feature for Parkinson's predictor."
   ]
  },
  {
   "cell_type": "code",
   "execution_count": 6,
   "metadata": {},
   "outputs": [],
   "source": [
    "def acceleration_simplify(df):\n",
    "    \n",
    "    df.columns = df.columns\n",
    "    \n",
    "    #Take the mean and divide it by standard deviation\n",
    "    x_accel_std = df['x.mean']/df['x.standard.deviation']\n",
    "    y_accel_std = df['y.mean']/df['y.standard.deviation']\n",
    "    z_accel_std = df['z.mean']/df['z.standard.deviation']\n",
    "    \n",
    "    # L2 norm to combine acceleration axis\n",
    "    total_accel = np.sqrt(np.square(x_accel_std) + np.square(y_accel_std) + np.square(z_accel_std)) \n",
    "    new_df = pd.DataFrame(data={'Total_Acceleration': total_accel, 'PK': df['PK']})\n",
    "    return new_df "
   ]
  },
  {
   "cell_type": "code",
   "execution_count": 7,
   "metadata": {},
   "outputs": [
    {
     "data": {
      "text/html": [
       "<div>\n",
       "<style scoped>\n",
       "    .dataframe tbody tr th:only-of-type {\n",
       "        vertical-align: middle;\n",
       "    }\n",
       "\n",
       "    .dataframe tbody tr th {\n",
       "        vertical-align: top;\n",
       "    }\n",
       "\n",
       "    .dataframe thead th {\n",
       "        text-align: right;\n",
       "    }\n",
       "</style>\n",
       "<table border=\"1\" class=\"dataframe\">\n",
       "  <thead>\n",
       "    <tr style=\"text-align: right;\">\n",
       "      <th></th>\n",
       "      <th>Total_Acceleration</th>\n",
       "      <th>PK</th>\n",
       "    </tr>\n",
       "  </thead>\n",
       "  <tbody>\n",
       "    <tr>\n",
       "      <td>12096044</td>\n",
       "      <td>58.037711</td>\n",
       "      <td>1</td>\n",
       "    </tr>\n",
       "    <tr>\n",
       "      <td>12215352</td>\n",
       "      <td>41.515314</td>\n",
       "      <td>1</td>\n",
       "    </tr>\n",
       "    <tr>\n",
       "      <td>2744272</td>\n",
       "      <td>57.407840</td>\n",
       "      <td>1</td>\n",
       "    </tr>\n",
       "    <tr>\n",
       "      <td>12003709</td>\n",
       "      <td>240.415549</td>\n",
       "      <td>1</td>\n",
       "    </tr>\n",
       "    <tr>\n",
       "      <td>12252697</td>\n",
       "      <td>124.372846</td>\n",
       "      <td>1</td>\n",
       "    </tr>\n",
       "    <tr>\n",
       "      <td>...</td>\n",
       "      <td>...</td>\n",
       "      <td>...</td>\n",
       "    </tr>\n",
       "    <tr>\n",
       "      <td>10299930</td>\n",
       "      <td>113.420578</td>\n",
       "      <td>0</td>\n",
       "    </tr>\n",
       "    <tr>\n",
       "      <td>189986</td>\n",
       "      <td>145.516453</td>\n",
       "      <td>0</td>\n",
       "    </tr>\n",
       "    <tr>\n",
       "      <td>10961248</td>\n",
       "      <td>4.238713</td>\n",
       "      <td>0</td>\n",
       "    </tr>\n",
       "    <tr>\n",
       "      <td>1883170</td>\n",
       "      <td>39.425978</td>\n",
       "      <td>0</td>\n",
       "    </tr>\n",
       "    <tr>\n",
       "      <td>7884301</td>\n",
       "      <td>266.186840</td>\n",
       "      <td>0</td>\n",
       "    </tr>\n",
       "  </tbody>\n",
       "</table>\n",
       "<p>1000 rows × 2 columns</p>\n",
       "</div>"
      ],
      "text/plain": [
       "          Total_Acceleration  PK\n",
       "12096044           58.037711   1\n",
       "12215352           41.515314   1\n",
       "2744272            57.407840   1\n",
       "12003709          240.415549   1\n",
       "12252697          124.372846   1\n",
       "...                      ...  ..\n",
       "10299930          113.420578   0\n",
       "189986            145.516453   0\n",
       "10961248            4.238713   0\n",
       "1883170            39.425978   0\n",
       "7884301           266.186840   0\n",
       "\n",
       "[1000 rows x 2 columns]"
      ]
     },
     "execution_count": 7,
     "metadata": {},
     "output_type": "execute_result"
    }
   ],
   "source": [
    "total = acceleration_simplify(df)\n",
    "total"
   ]
  },
  {
   "cell_type": "code",
   "execution_count": 8,
   "metadata": {},
   "outputs": [
    {
     "data": {
      "text/html": [
       "<div>\n",
       "<style scoped>\n",
       "    .dataframe tbody tr th:only-of-type {\n",
       "        vertical-align: middle;\n",
       "    }\n",
       "\n",
       "    .dataframe tbody tr th {\n",
       "        vertical-align: top;\n",
       "    }\n",
       "\n",
       "    .dataframe thead th {\n",
       "        text-align: right;\n",
       "    }\n",
       "</style>\n",
       "<table border=\"1\" class=\"dataframe\">\n",
       "  <thead>\n",
       "    <tr style=\"text-align: right;\">\n",
       "      <th></th>\n",
       "      <th>Total_Acceleration</th>\n",
       "      <th>diffSecs</th>\n",
       "      <th>N.samples</th>\n",
       "      <th>x.mean</th>\n",
       "      <th>x.absolute.deviation</th>\n",
       "      <th>x.standard.deviation</th>\n",
       "      <th>x.max.deviation</th>\n",
       "      <th>x.PSD.1</th>\n",
       "      <th>x.PSD.3</th>\n",
       "      <th>x.PSD.6</th>\n",
       "      <th>...</th>\n",
       "      <th>y.PSD.10</th>\n",
       "      <th>z.mean</th>\n",
       "      <th>z.absolute.deviation</th>\n",
       "      <th>z.standard.deviation</th>\n",
       "      <th>z.max.deviation</th>\n",
       "      <th>z.PSD.1</th>\n",
       "      <th>z.PSD.3</th>\n",
       "      <th>z.PSD.6</th>\n",
       "      <th>z.PSD.10</th>\n",
       "      <th>PK</th>\n",
       "    </tr>\n",
       "  </thead>\n",
       "  <tbody>\n",
       "    <tr>\n",
       "      <td>12096044</td>\n",
       "      <td>58.037711</td>\n",
       "      <td>1.012</td>\n",
       "      <td>35</td>\n",
       "      <td>6.750618</td>\n",
       "      <td>0.111900</td>\n",
       "      <td>0.143288</td>\n",
       "      <td>0.300364</td>\n",
       "      <td>0.296985</td>\n",
       "      <td>1.186820</td>\n",
       "      <td>1.423667</td>\n",
       "      <td>...</td>\n",
       "      <td>0.912825</td>\n",
       "      <td>-1.301763</td>\n",
       "      <td>0.213024</td>\n",
       "      <td>0.259378</td>\n",
       "      <td>0.556457</td>\n",
       "      <td>1.507659</td>\n",
       "      <td>4.859704</td>\n",
       "      <td>6.589732</td>\n",
       "      <td>1.981934</td>\n",
       "      <td>1</td>\n",
       "    </tr>\n",
       "    <tr>\n",
       "      <td>12215352</td>\n",
       "      <td>41.515314</td>\n",
       "      <td>1.009</td>\n",
       "      <td>43</td>\n",
       "      <td>4.134529</td>\n",
       "      <td>0.209414</td>\n",
       "      <td>0.264515</td>\n",
       "      <td>0.562856</td>\n",
       "      <td>6.330236</td>\n",
       "      <td>7.891645</td>\n",
       "      <td>6.733434</td>\n",
       "      <td>...</td>\n",
       "      <td>0.042477</td>\n",
       "      <td>-8.807511</td>\n",
       "      <td>0.206984</td>\n",
       "      <td>0.237622</td>\n",
       "      <td>0.479386</td>\n",
       "      <td>0.047688</td>\n",
       "      <td>1.353027</td>\n",
       "      <td>3.290413</td>\n",
       "      <td>2.265099</td>\n",
       "      <td>1</td>\n",
       "    </tr>\n",
       "    <tr>\n",
       "      <td>2744272</td>\n",
       "      <td>57.407840</td>\n",
       "      <td>1.000</td>\n",
       "      <td>79</td>\n",
       "      <td>8.633188</td>\n",
       "      <td>0.145035</td>\n",
       "      <td>0.176908</td>\n",
       "      <td>0.388163</td>\n",
       "      <td>0.000305</td>\n",
       "      <td>9.334192</td>\n",
       "      <td>6.018091</td>\n",
       "      <td>...</td>\n",
       "      <td>1.241906</td>\n",
       "      <td>-3.492504</td>\n",
       "      <td>0.095851</td>\n",
       "      <td>0.123563</td>\n",
       "      <td>0.447079</td>\n",
       "      <td>1.269823</td>\n",
       "      <td>1.188564</td>\n",
       "      <td>0.877476</td>\n",
       "      <td>1.201407</td>\n",
       "      <td>1</td>\n",
       "    </tr>\n",
       "    <tr>\n",
       "      <td>12003709</td>\n",
       "      <td>240.415549</td>\n",
       "      <td>1.016</td>\n",
       "      <td>34</td>\n",
       "      <td>3.059675</td>\n",
       "      <td>0.073261</td>\n",
       "      <td>0.092699</td>\n",
       "      <td>0.205940</td>\n",
       "      <td>0.245007</td>\n",
       "      <td>0.309767</td>\n",
       "      <td>0.116339</td>\n",
       "      <td>...</td>\n",
       "      <td>0.007794</td>\n",
       "      <td>-9.274495</td>\n",
       "      <td>0.032745</td>\n",
       "      <td>0.038960</td>\n",
       "      <td>0.075858</td>\n",
       "      <td>0.011687</td>\n",
       "      <td>0.014748</td>\n",
       "      <td>0.007759</td>\n",
       "      <td>0.018768</td>\n",
       "      <td>1</td>\n",
       "    </tr>\n",
       "    <tr>\n",
       "      <td>12252697</td>\n",
       "      <td>124.372846</td>\n",
       "      <td>1.007</td>\n",
       "      <td>44</td>\n",
       "      <td>1.756505</td>\n",
       "      <td>0.132218</td>\n",
       "      <td>0.148758</td>\n",
       "      <td>0.302892</td>\n",
       "      <td>1.010824</td>\n",
       "      <td>3.266822</td>\n",
       "      <td>1.478573</td>\n",
       "      <td>...</td>\n",
       "      <td>0.137819</td>\n",
       "      <td>-9.387861</td>\n",
       "      <td>0.065172</td>\n",
       "      <td>0.078803</td>\n",
       "      <td>0.193235</td>\n",
       "      <td>0.036434</td>\n",
       "      <td>0.208543</td>\n",
       "      <td>0.978749</td>\n",
       "      <td>0.234471</td>\n",
       "      <td>1</td>\n",
       "    </tr>\n",
       "  </tbody>\n",
       "</table>\n",
       "<p>5 rows × 28 columns</p>\n",
       "</div>"
      ],
      "text/plain": [
       "          Total_Acceleration  diffSecs  N.samples    x.mean  \\\n",
       "12096044           58.037711     1.012         35  6.750618   \n",
       "12215352           41.515314     1.009         43  4.134529   \n",
       "2744272            57.407840     1.000         79  8.633188   \n",
       "12003709          240.415549     1.016         34  3.059675   \n",
       "12252697          124.372846     1.007         44  1.756505   \n",
       "\n",
       "          x.absolute.deviation  x.standard.deviation  x.max.deviation  \\\n",
       "12096044              0.111900              0.143288         0.300364   \n",
       "12215352              0.209414              0.264515         0.562856   \n",
       "2744272               0.145035              0.176908         0.388163   \n",
       "12003709              0.073261              0.092699         0.205940   \n",
       "12252697              0.132218              0.148758         0.302892   \n",
       "\n",
       "           x.PSD.1   x.PSD.3   x.PSD.6  ...  y.PSD.10    z.mean  \\\n",
       "12096044  0.296985  1.186820  1.423667  ...  0.912825 -1.301763   \n",
       "12215352  6.330236  7.891645  6.733434  ...  0.042477 -8.807511   \n",
       "2744272   0.000305  9.334192  6.018091  ...  1.241906 -3.492504   \n",
       "12003709  0.245007  0.309767  0.116339  ...  0.007794 -9.274495   \n",
       "12252697  1.010824  3.266822  1.478573  ...  0.137819 -9.387861   \n",
       "\n",
       "          z.absolute.deviation  z.standard.deviation  z.max.deviation  \\\n",
       "12096044              0.213024              0.259378         0.556457   \n",
       "12215352              0.206984              0.237622         0.479386   \n",
       "2744272               0.095851              0.123563         0.447079   \n",
       "12003709              0.032745              0.038960         0.075858   \n",
       "12252697              0.065172              0.078803         0.193235   \n",
       "\n",
       "           z.PSD.1   z.PSD.3   z.PSD.6  z.PSD.10  PK  \n",
       "12096044  1.507659  4.859704  6.589732  1.981934   1  \n",
       "12215352  0.047688  1.353027  3.290413  2.265099   1  \n",
       "2744272   1.269823  1.188564  0.877476  1.201407   1  \n",
       "12003709  0.011687  0.014748  0.007759  0.018768   1  \n",
       "12252697  0.036434  0.208543  0.978749  0.234471   1  \n",
       "\n",
       "[5 rows x 28 columns]"
      ]
     },
     "execution_count": 8,
     "metadata": {},
     "output_type": "execute_result"
    }
   ],
   "source": [
    "df2 = pd.concat([total['Total_Acceleration'], df], axis=1)\n",
    "df2 = df2.replace([np.inf, -np.inf], np.nan)\n",
    "df2 = df2.dropna()\n",
    "df2.head()"
   ]
  },
  {
   "cell_type": "code",
   "execution_count": 9,
   "metadata": {},
   "outputs": [
    {
     "data": {
      "text/plain": [
       "0.7142857142857143"
      ]
     },
     "execution_count": 9,
     "metadata": {},
     "output_type": "execute_result"
    }
   ],
   "source": [
    "scaler = StandardScaler()\n",
    "training_data = df2.iloc[:,0:27]\n",
    "scaler.fit(training_data)\n",
    "training_data_scaled = scaler.transform(training_data)\n",
    "\n",
    "X_train, X_test, y_train, y_test = train_test_split(training_data_scaled, df2['PK'], test_size=0.33, random_state=42)\n",
    "clf = LogisticRegressionCV(cv=5, random_state=42, max_iter=10000).fit(X_train , y_train)\n",
    "clf.score(X_test, y_test)"
   ]
  },
  {
   "cell_type": "markdown",
   "metadata": {},
   "source": [
    "Overall, adding the total acceleration as a feature allowed the logistic model to perform slighlty better. But it was not as significant as I was hoping."
   ]
  },
  {
   "cell_type": "markdown",
   "metadata": {},
   "source": [
    "# With Stochastic Gradient Descent Classifier"
   ]
  },
  {
   "cell_type": "markdown",
   "metadata": {},
   "source": [
    "Stochastic Gradient Descent classifier was examined since it the model does scale well to be used with large datasets. More importantly, sklearn allows this model to accept new data and continously train on it in a divide and conquer strategy. Other sklearn models must train on the entire dataset all at once, which is comutationally taxing in big data."
   ]
  },
  {
   "cell_type": "code",
   "execution_count": 10,
   "metadata": {},
   "outputs": [
    {
     "data": {
      "text/plain": [
       "0.6757575757575758"
      ]
     },
     "execution_count": 10,
     "metadata": {},
     "output_type": "execute_result"
    }
   ],
   "source": [
    "scaler = StandardScaler()\n",
    "training_data = df.iloc[:,0:26]\n",
    "scaler.fit(training_data)\n",
    "training_data_scaled = scaler.transform(training_data)\n",
    "\n",
    "from sklearn import linear_model\n",
    "X_train, X_test, y_train, y_test = train_test_split(training_data_scaled, df['PK'], test_size=0.33, random_state=42)\n",
    "clf = linear_model.SGDClassifier(max_iter=1000, tol=1e-3, random_state=42).fit(X_train, y_train)\n",
    "clf.score(X_test, y_test)"
   ]
  },
  {
   "cell_type": "markdown",
   "metadata": {},
   "source": [
    "# With Support Vector Machine"
   ]
  },
  {
   "cell_type": "code",
   "execution_count": 11,
   "metadata": {},
   "outputs": [
    {
     "data": {
      "text/plain": [
       "0.7515151515151515"
      ]
     },
     "execution_count": 11,
     "metadata": {},
     "output_type": "execute_result"
    }
   ],
   "source": [
    "scaler = StandardScaler()\n",
    "training_data = df.iloc[:,0:26]\n",
    "scaler.fit(training_data)\n",
    "training_data_scaled = scaler.transform(training_data)\n",
    "\n",
    "from sklearn.svm import SVC\n",
    "X_train, X_test, y_train, y_test = train_test_split(training_data_scaled, df['PK'], test_size=0.33, random_state=42)\n",
    "clf = SVC(gamma='auto', random_state=42).fit(X_train, y_train)\n",
    "clf.score(X_test, y_test)"
   ]
  },
  {
   "cell_type": "code",
   "execution_count": 12,
   "metadata": {},
   "outputs": [
    {
     "data": {
      "text/plain": [
       "0.7272727272727273"
      ]
     },
     "execution_count": 12,
     "metadata": {},
     "output_type": "execute_result"
    }
   ],
   "source": [
    "scaler = StandardScaler()\n",
    "training_data = df.iloc[:,0:26]\n",
    "scaler.fit(training_data)\n",
    "training_data_scaled = scaler.transform(training_data)\n",
    "\n",
    "from sklearn.svm import LinearSVC\n",
    "X_train, X_test, y_train, y_test = train_test_split(training_data_scaled, df['PK'], test_size=0.33, random_state=42)\n",
    "clf = LinearSVC(max_iter=10000, tol=1e-3, random_state=42).fit(X_train, y_train)\n",
    "clf.score(X_test, y_test)"
   ]
  },
  {
   "cell_type": "markdown",
   "metadata": {},
   "source": [
    "Support Vector Machine models are also great at dealing with large data. These models do perform better compared to the Stochastic Gradient Descent model. However, they cannot implement a divide and conquer strategy."
   ]
  },
  {
   "cell_type": "markdown",
   "metadata": {},
   "source": [
    "# Feature Selection"
   ]
  },
  {
   "cell_type": "markdown",
   "metadata": {},
   "source": [
    "- https://towardsdatascience.com/a-feature-selection-tool-for-machine-learning-in-python-b64dd23710f0\n",
    "- https://github.com/WillKoehrsen/feature-selector"
   ]
  },
  {
   "cell_type": "markdown",
   "metadata": {},
   "source": [
    "Since I did not have the domain knowledge to determine which features were more important for classification, I used the feature selector package by Will Koehrsen to identify the most important features. Since the orignal dataset is huge, using all the features is computational inefficient and unnecessary."
   ]
  },
  {
   "cell_type": "code",
   "execution_count": 13,
   "metadata": {},
   "outputs": [
    {
     "name": "stdout",
     "output_type": "stream",
     "text": [
      "Requirement already satisfied: lightgbm in /opt/anaconda3/lib/python3.7/site-packages (2.3.0)\n",
      "Requirement already satisfied: scipy in /opt/anaconda3/lib/python3.7/site-packages (from lightgbm) (1.3.1)\n",
      "Requirement already satisfied: scikit-learn in /opt/anaconda3/lib/python3.7/site-packages (from lightgbm) (0.21.3)\n",
      "Requirement already satisfied: numpy in /opt/anaconda3/lib/python3.7/site-packages (from lightgbm) (1.17.2)\n",
      "Requirement already satisfied: joblib>=0.11 in /opt/anaconda3/lib/python3.7/site-packages (from scikit-learn->lightgbm) (0.13.2)\n",
      "Note: you may need to restart the kernel to use updated packages.\n"
     ]
    }
   ],
   "source": [
    "pip install lightgbm"
   ]
  },
  {
   "cell_type": "code",
   "execution_count": 14,
   "metadata": {},
   "outputs": [
    {
     "name": "stderr",
     "output_type": "stream",
     "text": [
      "/opt/anaconda3/lib/python3.7/site-packages/lightgbm/__init__.py:48: UserWarning: Starting from version 2.2.1, the library file in distribution wheels for macOS is built by the Apple Clang (Xcode_8.3.3) compiler.\n",
      "This means that in case of installing LightGBM from PyPI via the ``pip install lightgbm`` command, you don't need to install the gcc compiler anymore.\n",
      "Instead of that, you need to install the OpenMP library, which is required for running LightGBM on the system with the Apple Clang compiler.\n",
      "You can install the OpenMP library by the following command: ``brew install libomp``.\n",
      "  \"You can install the OpenMP library by the following command: ``brew install libomp``.\", UserWarning)\n"
     ]
    }
   ],
   "source": [
    "import lightgbm as lgb\n",
    "from feature_selector import FeatureSelector"
   ]
  },
  {
   "cell_type": "code",
   "execution_count": 15,
   "metadata": {},
   "outputs": [],
   "source": [
    "fs = FeatureSelector(data = df2.iloc[:,0:27], labels = df2['PK'])"
   ]
  },
  {
   "cell_type": "code",
   "execution_count": 16,
   "metadata": {},
   "outputs": [
    {
     "name": "stdout",
     "output_type": "stream",
     "text": [
      "0 features with greater than 0.60 missing values.\n",
      "\n"
     ]
    }
   ],
   "source": [
    "fs.identify_missing(missing_threshold = 0.6)"
   ]
  },
  {
   "cell_type": "markdown",
   "metadata": {},
   "source": [
    "Feature selector trains a gradient boosting model to identify and weight the all the features in my training set."
   ]
  },
  {
   "cell_type": "code",
   "execution_count": 17,
   "metadata": {},
   "outputs": [
    {
     "name": "stdout",
     "output_type": "stream",
     "text": [
      "Training Gradient Boosting Model\n",
      "\n",
      "Training until validation scores don't improve for 100 rounds\n",
      "Early stopping, best iteration is:\n",
      "[62]\tvalid_0's auc: 0.882899\tvalid_0's binary_logloss: 0.426058\n",
      "Training until validation scores don't improve for 100 rounds\n",
      "Early stopping, best iteration is:\n",
      "[65]\tvalid_0's auc: 0.876715\tvalid_0's binary_logloss: 0.438671\n",
      "Training until validation scores don't improve for 100 rounds\n",
      "Early stopping, best iteration is:\n",
      "[50]\tvalid_0's auc: 0.896812\tvalid_0's binary_logloss: 0.420781\n",
      "Training until validation scores don't improve for 100 rounds\n",
      "Early stopping, best iteration is:\n",
      "[40]\tvalid_0's auc: 0.841546\tvalid_0's binary_logloss: 0.492215\n",
      "Training until validation scores don't improve for 100 rounds\n",
      "Early stopping, best iteration is:\n",
      "[52]\tvalid_0's auc: 0.829372\tvalid_0's binary_logloss: 0.511464\n",
      "Training until validation scores don't improve for 100 rounds\n",
      "Early stopping, best iteration is:\n",
      "[67]\tvalid_0's auc: 0.899517\tvalid_0's binary_logloss: 0.410123\n",
      "Training until validation scores don't improve for 100 rounds\n",
      "Early stopping, best iteration is:\n",
      "[110]\tvalid_0's auc: 0.90029\tvalid_0's binary_logloss: 0.40317\n",
      "Training until validation scores don't improve for 100 rounds\n",
      "Early stopping, best iteration is:\n",
      "[53]\tvalid_0's auc: 0.875749\tvalid_0's binary_logloss: 0.439344\n",
      "Training until validation scores don't improve for 100 rounds\n",
      "Early stopping, best iteration is:\n",
      "[56]\tvalid_0's auc: 0.88599\tvalid_0's binary_logloss: 0.430461\n",
      "Training until validation scores don't improve for 100 rounds\n",
      "Early stopping, best iteration is:\n",
      "[65]\tvalid_0's auc: 0.92058\tvalid_0's binary_logloss: 0.36748\n",
      "\n",
      "0 features with zero importance after one-hot encoding.\n",
      "\n"
     ]
    }
   ],
   "source": [
    "fs.identify_zero_importance(task = 'classification', \n",
    "                            eval_metric = 'auc', \n",
    "                            n_iterations = 10, \n",
    "                             early_stopping = True)\n",
    "\n",
    "zero_importance_features = fs.ops['zero_importance']"
   ]
  },
  {
   "cell_type": "code",
   "execution_count": 18,
   "metadata": {},
   "outputs": [
    {
     "data": {
      "image/png": "[encoded data removed]",
      "text/plain": [
       "<Figure size 1000x600 with 1 Axes>"
      ]
     },
     "metadata": {},
     "output_type": "display_data"
    },
    {
     "data": {
      "image/png": "[encoded data removed]",
      "text/plain": [
       "<Figure size 600x400 with 1 Axes>"
      ]
     },
     "metadata": {},
     "output_type": "display_data"
    },
    {
     "name": "stdout",
     "output_type": "stream",
     "text": [
      "26 features required for 0.99 of cumulative importance\n"
     ]
    }
   ],
   "source": [
    "fs.plot_feature_importances(threshold = 0.99, plot_n = 12)"
   ]
  },
  {
   "cell_type": "markdown",
   "metadata": {},
   "source": [
    "Overall, the package determined that about 5 features contribute 50% to predicting Parkinson's disease. Interestingly, the number of samples is the most important feature since I'm unsure how this is relevant to the Parkinson's status. What is good to see is that all the means features are considered important as well. Since Parkinson's patients suffer in a lack of mobility, there would be a noticable difference in the acceleration of patients walking around with and without Parkinson's."
   ]
  },
  {
   "cell_type": "markdown",
   "metadata": {},
   "source": [
    "# Classifying with Features Removed"
   ]
  },
  {
   "cell_type": "code",
   "execution_count": 19,
   "metadata": {},
   "outputs": [
    {
     "data": {
      "text/html": [
       "<div>\n",
       "<style scoped>\n",
       "    .dataframe tbody tr th:only-of-type {\n",
       "        vertical-align: middle;\n",
       "    }\n",
       "\n",
       "    .dataframe tbody tr th {\n",
       "        vertical-align: top;\n",
       "    }\n",
       "\n",
       "    .dataframe thead th {\n",
       "        text-align: right;\n",
       "    }\n",
       "</style>\n",
       "<table border=\"1\" class=\"dataframe\">\n",
       "  <thead>\n",
       "    <tr style=\"text-align: right;\">\n",
       "      <th></th>\n",
       "      <th>feature</th>\n",
       "      <th>importance</th>\n",
       "      <th>normalized_importance</th>\n",
       "      <th>cumulative_importance</th>\n",
       "    </tr>\n",
       "  </thead>\n",
       "  <tbody>\n",
       "    <tr>\n",
       "      <td>0</td>\n",
       "      <td>z.mean</td>\n",
       "      <td>241.3</td>\n",
       "      <td>0.131198</td>\n",
       "      <td>0.131198</td>\n",
       "    </tr>\n",
       "    <tr>\n",
       "      <td>1</td>\n",
       "      <td>N.samples</td>\n",
       "      <td>208.1</td>\n",
       "      <td>0.113147</td>\n",
       "      <td>0.244345</td>\n",
       "    </tr>\n",
       "    <tr>\n",
       "      <td>2</td>\n",
       "      <td>x.mean</td>\n",
       "      <td>154.4</td>\n",
       "      <td>0.083950</td>\n",
       "      <td>0.328295</td>\n",
       "    </tr>\n",
       "    <tr>\n",
       "      <td>3</td>\n",
       "      <td>y.mean</td>\n",
       "      <td>151.1</td>\n",
       "      <td>0.082155</td>\n",
       "      <td>0.410450</td>\n",
       "    </tr>\n",
       "    <tr>\n",
       "      <td>4</td>\n",
       "      <td>diffSecs</td>\n",
       "      <td>114.8</td>\n",
       "      <td>0.062418</td>\n",
       "      <td>0.472869</td>\n",
       "    </tr>\n",
       "    <tr>\n",
       "      <td>5</td>\n",
       "      <td>y.PSD.6</td>\n",
       "      <td>71.2</td>\n",
       "      <td>0.038712</td>\n",
       "      <td>0.511581</td>\n",
       "    </tr>\n",
       "    <tr>\n",
       "      <td>6</td>\n",
       "      <td>y.PSD.10</td>\n",
       "      <td>71.1</td>\n",
       "      <td>0.038658</td>\n",
       "      <td>0.550239</td>\n",
       "    </tr>\n",
       "    <tr>\n",
       "      <td>7</td>\n",
       "      <td>x.max.deviation</td>\n",
       "      <td>67.1</td>\n",
       "      <td>0.036483</td>\n",
       "      <td>0.586722</td>\n",
       "    </tr>\n",
       "    <tr>\n",
       "      <td>8</td>\n",
       "      <td>z.PSD.1</td>\n",
       "      <td>59.9</td>\n",
       "      <td>0.032569</td>\n",
       "      <td>0.619291</td>\n",
       "    </tr>\n",
       "    <tr>\n",
       "      <td>9</td>\n",
       "      <td>z.PSD.6</td>\n",
       "      <td>52.5</td>\n",
       "      <td>0.028545</td>\n",
       "      <td>0.647836</td>\n",
       "    </tr>\n",
       "    <tr>\n",
       "      <td>10</td>\n",
       "      <td>x.PSD.10</td>\n",
       "      <td>50.7</td>\n",
       "      <td>0.027566</td>\n",
       "      <td>0.675402</td>\n",
       "    </tr>\n",
       "    <tr>\n",
       "      <td>11</td>\n",
       "      <td>z.PSD.10</td>\n",
       "      <td>49.3</td>\n",
       "      <td>0.026805</td>\n",
       "      <td>0.702207</td>\n",
       "    </tr>\n",
       "    <tr>\n",
       "      <td>12</td>\n",
       "      <td>x.PSD.1</td>\n",
       "      <td>47.9</td>\n",
       "      <td>0.026044</td>\n",
       "      <td>0.728251</td>\n",
       "    </tr>\n",
       "    <tr>\n",
       "      <td>13</td>\n",
       "      <td>Total_Acceleration</td>\n",
       "      <td>47.6</td>\n",
       "      <td>0.025881</td>\n",
       "      <td>0.754132</td>\n",
       "    </tr>\n",
       "    <tr>\n",
       "      <td>14</td>\n",
       "      <td>y.PSD.1</td>\n",
       "      <td>47.3</td>\n",
       "      <td>0.025718</td>\n",
       "      <td>0.779850</td>\n",
       "    </tr>\n",
       "    <tr>\n",
       "      <td>15</td>\n",
       "      <td>x.PSD.3</td>\n",
       "      <td>44.2</td>\n",
       "      <td>0.024032</td>\n",
       "      <td>0.803882</td>\n",
       "    </tr>\n",
       "    <tr>\n",
       "      <td>16</td>\n",
       "      <td>z.max.deviation</td>\n",
       "      <td>42.4</td>\n",
       "      <td>0.023054</td>\n",
       "      <td>0.826936</td>\n",
       "    </tr>\n",
       "    <tr>\n",
       "      <td>17</td>\n",
       "      <td>z.absolute.deviation</td>\n",
       "      <td>39.1</td>\n",
       "      <td>0.021259</td>\n",
       "      <td>0.848195</td>\n",
       "    </tr>\n",
       "    <tr>\n",
       "      <td>18</td>\n",
       "      <td>x.absolute.deviation</td>\n",
       "      <td>38.5</td>\n",
       "      <td>0.020933</td>\n",
       "      <td>0.869128</td>\n",
       "    </tr>\n",
       "    <tr>\n",
       "      <td>19</td>\n",
       "      <td>y.PSD.3</td>\n",
       "      <td>38.4</td>\n",
       "      <td>0.020879</td>\n",
       "      <td>0.890007</td>\n",
       "    </tr>\n",
       "    <tr>\n",
       "      <td>20</td>\n",
       "      <td>x.PSD.6</td>\n",
       "      <td>36.2</td>\n",
       "      <td>0.019682</td>\n",
       "      <td>0.909689</td>\n",
       "    </tr>\n",
       "    <tr>\n",
       "      <td>21</td>\n",
       "      <td>y.absolute.deviation</td>\n",
       "      <td>35.4</td>\n",
       "      <td>0.019247</td>\n",
       "      <td>0.928936</td>\n",
       "    </tr>\n",
       "    <tr>\n",
       "      <td>22</td>\n",
       "      <td>y.max.deviation</td>\n",
       "      <td>33.6</td>\n",
       "      <td>0.018269</td>\n",
       "      <td>0.947205</td>\n",
       "    </tr>\n",
       "    <tr>\n",
       "      <td>23</td>\n",
       "      <td>x.standard.deviation</td>\n",
       "      <td>27.8</td>\n",
       "      <td>0.015115</td>\n",
       "      <td>0.962321</td>\n",
       "    </tr>\n",
       "    <tr>\n",
       "      <td>24</td>\n",
       "      <td>z.standard.deviation</td>\n",
       "      <td>26.3</td>\n",
       "      <td>0.014300</td>\n",
       "      <td>0.976620</td>\n",
       "    </tr>\n",
       "    <tr>\n",
       "      <td>25</td>\n",
       "      <td>z.PSD.3</td>\n",
       "      <td>24.7</td>\n",
       "      <td>0.013430</td>\n",
       "      <td>0.990050</td>\n",
       "    </tr>\n",
       "    <tr>\n",
       "      <td>26</td>\n",
       "      <td>y.standard.deviation</td>\n",
       "      <td>18.3</td>\n",
       "      <td>0.009950</td>\n",
       "      <td>1.000000</td>\n",
       "    </tr>\n",
       "  </tbody>\n",
       "</table>\n",
       "</div>"
      ],
      "text/plain": [
       "                 feature  importance  normalized_importance  \\\n",
       "0                 z.mean       241.3               0.131198   \n",
       "1              N.samples       208.1               0.113147   \n",
       "2                 x.mean       154.4               0.083950   \n",
       "3                 y.mean       151.1               0.082155   \n",
       "4               diffSecs       114.8               0.062418   \n",
       "5                y.PSD.6        71.2               0.038712   \n",
       "6               y.PSD.10        71.1               0.038658   \n",
       "7        x.max.deviation        67.1               0.036483   \n",
       "8                z.PSD.1        59.9               0.032569   \n",
       "9                z.PSD.6        52.5               0.028545   \n",
       "10              x.PSD.10        50.7               0.027566   \n",
       "11              z.PSD.10        49.3               0.026805   \n",
       "12               x.PSD.1        47.9               0.026044   \n",
       "13    Total_Acceleration        47.6               0.025881   \n",
       "14               y.PSD.1        47.3               0.025718   \n",
       "15               x.PSD.3        44.2               0.024032   \n",
       "16       z.max.deviation        42.4               0.023054   \n",
       "17  z.absolute.deviation        39.1               0.021259   \n",
       "18  x.absolute.deviation        38.5               0.020933   \n",
       "19               y.PSD.3        38.4               0.020879   \n",
       "20               x.PSD.6        36.2               0.019682   \n",
       "21  y.absolute.deviation        35.4               0.019247   \n",
       "22       y.max.deviation        33.6               0.018269   \n",
       "23  x.standard.deviation        27.8               0.015115   \n",
       "24  z.standard.deviation        26.3               0.014300   \n",
       "25               z.PSD.3        24.7               0.013430   \n",
       "26  y.standard.deviation        18.3               0.009950   \n",
       "\n",
       "    cumulative_importance  \n",
       "0                0.131198  \n",
       "1                0.244345  \n",
       "2                0.328295  \n",
       "3                0.410450  \n",
       "4                0.472869  \n",
       "5                0.511581  \n",
       "6                0.550239  \n",
       "7                0.586722  \n",
       "8                0.619291  \n",
       "9                0.647836  \n",
       "10               0.675402  \n",
       "11               0.702207  \n",
       "12               0.728251  \n",
       "13               0.754132  \n",
       "14               0.779850  \n",
       "15               0.803882  \n",
       "16               0.826936  \n",
       "17               0.848195  \n",
       "18               0.869128  \n",
       "19               0.890007  \n",
       "20               0.909689  \n",
       "21               0.928936  \n",
       "22               0.947205  \n",
       "23               0.962321  \n",
       "24               0.976620  \n",
       "25               0.990050  \n",
       "26               1.000000  "
      ]
     },
     "execution_count": 19,
     "metadata": {},
     "output_type": "execute_result"
    }
   ],
   "source": [
    "important_features = fs.feature_importances\n",
    "important_features"
   ]
  },
  {
   "cell_type": "markdown",
   "metadata": {},
   "source": [
    "I decided to take the top five features of importance to train my model on the entire dataset. "
   ]
  },
  {
   "cell_type": "code",
   "execution_count": 20,
   "metadata": {},
   "outputs": [
    {
     "data": {
      "text/plain": [
       "['z.mean', 'N.samples', 'x.mean', 'y.mean', 'diffSecs']"
      ]
     },
     "execution_count": 20,
     "metadata": {},
     "output_type": "execute_result"
    }
   ],
   "source": [
    "top5 = important_features['feature'].iloc[0:5]\n",
    "top5 = list(top5)\n",
    "top5"
   ]
  },
  {
   "cell_type": "code",
   "execution_count": 21,
   "metadata": {},
   "outputs": [
    {
     "data": {
      "text/html": [
       "<div>\n",
       "<style scoped>\n",
       "    .dataframe tbody tr th:only-of-type {\n",
       "        vertical-align: middle;\n",
       "    }\n",
       "\n",
       "    .dataframe tbody tr th {\n",
       "        vertical-align: top;\n",
       "    }\n",
       "\n",
       "    .dataframe thead th {\n",
       "        text-align: right;\n",
       "    }\n",
       "</style>\n",
       "<table border=\"1\" class=\"dataframe\">\n",
       "  <thead>\n",
       "    <tr style=\"text-align: right;\">\n",
       "      <th></th>\n",
       "      <th>z.mean</th>\n",
       "      <th>N.samples</th>\n",
       "      <th>x.mean</th>\n",
       "      <th>y.mean</th>\n",
       "      <th>diffSecs</th>\n",
       "    </tr>\n",
       "  </thead>\n",
       "  <tbody>\n",
       "    <tr>\n",
       "      <td>12096044</td>\n",
       "      <td>-1.301763</td>\n",
       "      <td>35</td>\n",
       "      <td>6.750618</td>\n",
       "      <td>-6.608281</td>\n",
       "      <td>1.012</td>\n",
       "    </tr>\n",
       "    <tr>\n",
       "      <td>12215352</td>\n",
       "      <td>-8.807511</td>\n",
       "      <td>43</td>\n",
       "      <td>4.134529</td>\n",
       "      <td>-0.783620</td>\n",
       "      <td>1.009</td>\n",
       "    </tr>\n",
       "    <tr>\n",
       "      <td>2744272</td>\n",
       "      <td>-3.492504</td>\n",
       "      <td>79</td>\n",
       "      <td>8.633188</td>\n",
       "      <td>1.668304</td>\n",
       "      <td>1.000</td>\n",
       "    </tr>\n",
       "    <tr>\n",
       "      <td>12003709</td>\n",
       "      <td>-9.274495</td>\n",
       "      <td>34</td>\n",
       "      <td>3.059675</td>\n",
       "      <td>0.298526</td>\n",
       "      <td>1.016</td>\n",
       "    </tr>\n",
       "    <tr>\n",
       "      <td>12252697</td>\n",
       "      <td>-9.387861</td>\n",
       "      <td>44</td>\n",
       "      <td>1.756505</td>\n",
       "      <td>-1.827826</td>\n",
       "      <td>1.007</td>\n",
       "    </tr>\n",
       "  </tbody>\n",
       "</table>\n",
       "</div>"
      ],
      "text/plain": [
       "            z.mean  N.samples    x.mean    y.mean  diffSecs\n",
       "12096044 -1.301763         35  6.750618 -6.608281     1.012\n",
       "12215352 -8.807511         43  4.134529 -0.783620     1.009\n",
       "2744272  -3.492504         79  8.633188  1.668304     1.000\n",
       "12003709 -9.274495         34  3.059675  0.298526     1.016\n",
       "12252697 -9.387861         44  1.756505 -1.827826     1.007"
      ]
     },
     "execution_count": 21,
     "metadata": {},
     "output_type": "execute_result"
    }
   ],
   "source": [
    "simplified_df = df2[top5]\n",
    "simplified_df.head()"
   ]
  },
  {
   "cell_type": "markdown",
   "metadata": {},
   "source": [
    "Then using these five features, I trained the various models again. I did not see a significant decrease in the score so I felt confident that these features were all I needed to classify Parkinson's status."
   ]
  },
  {
   "cell_type": "code",
   "execution_count": 22,
   "metadata": {},
   "outputs": [
    {
     "name": "stdout",
     "output_type": "stream",
     "text": [
      "0.7151799687010955 0.7015873015873015\n"
     ]
    }
   ],
   "source": [
    "scaler = StandardScaler()\n",
    "training_data = simplified_df\n",
    "scaler.fit(training_data)\n",
    "training_data_scaled = scaler.transform(training_data)\n",
    "\n",
    "from sklearn.model_selection import train_test_split\n",
    "from sklearn.linear_model import LogisticRegressionCV\n",
    "X_train, X_test, y_train, y_test = train_test_split(training_data_scaled, df2['PK'], test_size=0.33, random_state=42)\n",
    "clf = LogisticRegressionCV(cv=5, random_state=42, max_iter=10000).fit(X_train, y_train)\n",
    "print(clf.score(X_train, y_train), clf.score(X_test, y_test))"
   ]
  },
  {
   "cell_type": "code",
   "execution_count": 23,
   "metadata": {},
   "outputs": [
    {
     "name": "stdout",
     "output_type": "stream",
     "text": [
      "0.594679186228482 0.6063492063492063\n"
     ]
    }
   ],
   "source": [
    "scaler = StandardScaler()\n",
    "training_data = simplified_df\n",
    "scaler.fit(training_data)\n",
    "training_data_scaled = scaler.transform(training_data)\n",
    "\n",
    "from sklearn import linear_model\n",
    "X_train, X_test, y_train, y_test = train_test_split(training_data_scaled, df2['PK'], test_size=0.33, random_state=42)\n",
    "clf = linear_model.SGDClassifier(max_iter=1000, tol=1e-3, random_state=42).fit(X_train, y_train)\n",
    "print(clf.score(X_train, y_train), clf.score(X_test, y_test))"
   ]
  },
  {
   "cell_type": "code",
   "execution_count": 24,
   "metadata": {},
   "outputs": [
    {
     "name": "stdout",
     "output_type": "stream",
     "text": [
      "0.7151799687010955 0.7047619047619048\n"
     ]
    }
   ],
   "source": [
    "scaler = StandardScaler()\n",
    "training_data = simplified_df\n",
    "scaler.fit(training_data)\n",
    "training_data_scaled = scaler.transform(training_data)\n",
    "\n",
    "from sklearn.svm import LinearSVC\n",
    "X_train, X_test, y_train, y_test = train_test_split(training_data_scaled, df2['PK'], test_size=0.33, random_state=42)\n",
    "clf = LinearSVC(max_iter=10000, tol=1e-3, random_state=42).fit(X_train, y_train)\n",
    "print(clf.score(X_train, y_train), clf.score(X_test, y_test))"
   ]
  },
  {
   "cell_type": "markdown",
   "metadata": {},
   "source": [
    "# Analyzing the Whole Dataset"
   ]
  },
  {
   "cell_type": "markdown",
   "metadata": {},
   "source": [
    "Since the file is extremely huge, I imported the file into a lot of chunks."
   ]
  },
  {
   "cell_type": "code",
   "execution_count": 25,
   "metadata": {},
   "outputs": [
    {
     "data": {
      "text/plain": [
       "<pandas.io.parsers.TextFileReader at 0x1a22e5ff50>"
      ]
     },
     "execution_count": 25,
     "metadata": {},
     "output_type": "execute_result"
    }
   ],
   "source": [
    "df_chunk = pd.read_csv('accel.csv', index_col=0, chunksize=1000000)\n",
    "df_chunk"
   ]
  },
  {
   "cell_type": "markdown",
   "metadata": {},
   "source": [
    "With each chunk, I did some data cleaning and dropped any rows with infiinte or missing values. Since there was still a lot of rows after the data cleaning, I did not feel the need to implement data imputation."
   ]
  },
  {
   "cell_type": "code",
   "execution_count": 26,
   "metadata": {},
   "outputs": [],
   "source": [
    "chunk_list = []  # append each chunk df here \n",
    "\n",
    "# Each chunk is in df format\n",
    "for chunk in df_chunk:  \n",
    "    # perform data filtering \n",
    "    chunk = chunk.replace([np.inf, -np.inf], np.nan)\n",
    "    chunk = chunk.dropna()\n",
    "    chunk_filter = chunk[top5 + ['PK']]\n",
    "    \n",
    "    # Once the data filtering is done, append the chunk to list\n",
    "    chunk_list.append(chunk_filter)\n",
    "    \n",
    "# concat the list into dataframe \n",
    "df_accel = pd.concat(chunk_list)"
   ]
  },
  {
   "cell_type": "code",
   "execution_count": 27,
   "metadata": {},
   "outputs": [
    {
     "data": {
      "text/html": [
       "<div>\n",
       "<style scoped>\n",
       "    .dataframe tbody tr th:only-of-type {\n",
       "        vertical-align: middle;\n",
       "    }\n",
       "\n",
       "    .dataframe tbody tr th {\n",
       "        vertical-align: top;\n",
       "    }\n",
       "\n",
       "    .dataframe thead th {\n",
       "        text-align: right;\n",
       "    }\n",
       "</style>\n",
       "<table border=\"1\" class=\"dataframe\">\n",
       "  <thead>\n",
       "    <tr style=\"text-align: right;\">\n",
       "      <th></th>\n",
       "      <th>z.mean</th>\n",
       "      <th>N.samples</th>\n",
       "      <th>x.mean</th>\n",
       "      <th>y.mean</th>\n",
       "      <th>diffSecs</th>\n",
       "      <th>PK</th>\n",
       "    </tr>\n",
       "  </thead>\n",
       "  <tbody>\n",
       "    <tr>\n",
       "      <td>1</td>\n",
       "      <td>9.652247</td>\n",
       "      <td>47</td>\n",
       "      <td>-0.067186</td>\n",
       "      <td>-0.316525</td>\n",
       "      <td>0.000000</td>\n",
       "      <td>0</td>\n",
       "    </tr>\n",
       "    <tr>\n",
       "      <td>2</td>\n",
       "      <td>9.784198</td>\n",
       "      <td>38</td>\n",
       "      <td>-0.089292</td>\n",
       "      <td>-0.321555</td>\n",
       "      <td>1.017763</td>\n",
       "      <td>0</td>\n",
       "    </tr>\n",
       "    <tr>\n",
       "      <td>3</td>\n",
       "      <td>9.842841</td>\n",
       "      <td>42</td>\n",
       "      <td>-0.051368</td>\n",
       "      <td>-0.316381</td>\n",
       "      <td>1.013795</td>\n",
       "      <td>0</td>\n",
       "    </tr>\n",
       "    <tr>\n",
       "      <td>4</td>\n",
       "      <td>9.787527</td>\n",
       "      <td>40</td>\n",
       "      <td>-0.063498</td>\n",
       "      <td>-0.305722</td>\n",
       "      <td>1.039792</td>\n",
       "      <td>0</td>\n",
       "    </tr>\n",
       "    <tr>\n",
       "      <td>5</td>\n",
       "      <td>9.835269</td>\n",
       "      <td>49</td>\n",
       "      <td>-0.069247</td>\n",
       "      <td>-0.284793</td>\n",
       "      <td>1.001845</td>\n",
       "      <td>0</td>\n",
       "    </tr>\n",
       "    <tr>\n",
       "      <td>...</td>\n",
       "      <td>...</td>\n",
       "      <td>...</td>\n",
       "      <td>...</td>\n",
       "      <td>...</td>\n",
       "      <td>...</td>\n",
       "      <td>...</td>\n",
       "    </tr>\n",
       "    <tr>\n",
       "      <td>12537120</td>\n",
       "      <td>-9.803708</td>\n",
       "      <td>30</td>\n",
       "      <td>0.675351</td>\n",
       "      <td>1.247079</td>\n",
       "      <td>1.022000</td>\n",
       "      <td>1</td>\n",
       "    </tr>\n",
       "    <tr>\n",
       "      <td>12537121</td>\n",
       "      <td>-9.759984</td>\n",
       "      <td>29</td>\n",
       "      <td>0.641828</td>\n",
       "      <td>1.245106</td>\n",
       "      <td>1.006000</td>\n",
       "      <td>1</td>\n",
       "    </tr>\n",
       "    <tr>\n",
       "      <td>12537122</td>\n",
       "      <td>-9.835753</td>\n",
       "      <td>31</td>\n",
       "      <td>0.635534</td>\n",
       "      <td>1.253670</td>\n",
       "      <td>1.001000</td>\n",
       "      <td>1</td>\n",
       "    </tr>\n",
       "    <tr>\n",
       "      <td>12537123</td>\n",
       "      <td>-9.804976</td>\n",
       "      <td>41</td>\n",
       "      <td>0.661112</td>\n",
       "      <td>1.245923</td>\n",
       "      <td>1.008000</td>\n",
       "      <td>1</td>\n",
       "    </tr>\n",
       "    <tr>\n",
       "      <td>12537124</td>\n",
       "      <td>-9.798352</td>\n",
       "      <td>26</td>\n",
       "      <td>0.675527</td>\n",
       "      <td>1.245445</td>\n",
       "      <td>1.045000</td>\n",
       "      <td>1</td>\n",
       "    </tr>\n",
       "  </tbody>\n",
       "</table>\n",
       "<p>12537124 rows × 6 columns</p>\n",
       "</div>"
      ],
      "text/plain": [
       "            z.mean  N.samples    x.mean    y.mean  diffSecs  PK\n",
       "1         9.652247         47 -0.067186 -0.316525  0.000000   0\n",
       "2         9.784198         38 -0.089292 -0.321555  1.017763   0\n",
       "3         9.842841         42 -0.051368 -0.316381  1.013795   0\n",
       "4         9.787527         40 -0.063498 -0.305722  1.039792   0\n",
       "5         9.835269         49 -0.069247 -0.284793  1.001845   0\n",
       "...            ...        ...       ...       ...       ...  ..\n",
       "12537120 -9.803708         30  0.675351  1.247079  1.022000   1\n",
       "12537121 -9.759984         29  0.641828  1.245106  1.006000   1\n",
       "12537122 -9.835753         31  0.635534  1.253670  1.001000   1\n",
       "12537123 -9.804976         41  0.661112  1.245923  1.008000   1\n",
       "12537124 -9.798352         26  0.675527  1.245445  1.045000   1\n",
       "\n",
       "[12537124 rows x 6 columns]"
      ]
     },
     "execution_count": 27,
     "metadata": {},
     "output_type": "execute_result"
    }
   ],
   "source": [
    "df_accel"
   ]
  },
  {
   "cell_type": "markdown",
   "metadata": {},
   "source": [
    "Using groupby, I made sure that the number of rows for patients with Parkinson's or without Parkinson's follows a releative equal distribution. It is not as equal as I would have like, but it is not as lopsided either. Still, I felt confident enough to proceed forward with this data to train and test my model."
   ]
  },
  {
   "cell_type": "code",
   "execution_count": 28,
   "metadata": {},
   "outputs": [
    {
     "data": {
      "text/html": [
       "<div>\n",
       "<style scoped>\n",
       "    .dataframe tbody tr th:only-of-type {\n",
       "        vertical-align: middle;\n",
       "    }\n",
       "\n",
       "    .dataframe tbody tr th {\n",
       "        vertical-align: top;\n",
       "    }\n",
       "\n",
       "    .dataframe thead th {\n",
       "        text-align: right;\n",
       "    }\n",
       "</style>\n",
       "<table border=\"1\" class=\"dataframe\">\n",
       "  <thead>\n",
       "    <tr style=\"text-align: right;\">\n",
       "      <th></th>\n",
       "      <th>z.mean</th>\n",
       "    </tr>\n",
       "    <tr>\n",
       "      <th>PK</th>\n",
       "      <th></th>\n",
       "    </tr>\n",
       "  </thead>\n",
       "  <tbody>\n",
       "    <tr>\n",
       "      <td>0</td>\n",
       "      <td>35.040724</td>\n",
       "    </tr>\n",
       "    <tr>\n",
       "      <td>1</td>\n",
       "      <td>64.959276</td>\n",
       "    </tr>\n",
       "  </tbody>\n",
       "</table>\n",
       "</div>"
      ],
      "text/plain": [
       "       z.mean\n",
       "PK           \n",
       "0   35.040724\n",
       "1   64.959276"
      ]
     },
     "execution_count": 28,
     "metadata": {},
     "output_type": "execute_result"
    }
   ],
   "source": [
    "df_accel[['z.mean', 'PK']].groupby(['PK']).count()/12537124 *100"
   ]
  },
  {
   "cell_type": "code",
   "execution_count": 29,
   "metadata": {},
   "outputs": [],
   "source": [
    "# To standarize the data\n",
    "scaler = StandardScaler()\n",
    "training_data = df_accel\n",
    "scaler.fit(training_data)\n",
    "training_data_scaled = scaler.transform(training_data)"
   ]
  },
  {
   "cell_type": "markdown",
   "metadata": {},
   "source": [
    "Since this is with big data, I implemented a much small testing size of 0.1 instead of the traditional 0.3. However, this still nets me a large testing dataset to work with."
   ]
  },
  {
   "cell_type": "code",
   "execution_count": 208,
   "metadata": {},
   "outputs": [],
   "source": [
    "X_train, X_test, y_train, y_test = train_test_split(training_data_scaled, df_accel['PK'], test_size=0.1, random_state=42)"
   ]
  },
  {
   "cell_type": "markdown",
   "metadata": {},
   "source": [
    "I've implemented a divide and conquer strategy here to split the training data into 10 chunks and train the model one chunk at a time."
   ]
  },
  {
   "cell_type": "code",
   "execution_count": 212,
   "metadata": {},
   "outputs": [],
   "source": [
    "num_of_minibatches = 10\n",
    "\n",
    "X_train_minibatches = np.array_split(X_train, num_of_minibatches)\n",
    "y_train_minibatches  = np.array_split(y_train, num_of_minibatches)"
   ]
  },
  {
   "cell_type": "code",
   "execution_count": 213,
   "metadata": {},
   "outputs": [
    {
     "name": "stdout",
     "output_type": "stream",
     "text": [
      "(1128342, 6) (1128342,)\n"
     ]
    }
   ],
   "source": [
    "print(X_train_minibatches[0].shape, y_train_minibatches[0].shape)"
   ]
  },
  {
   "cell_type": "code",
   "execution_count": 214,
   "metadata": {},
   "outputs": [
    {
     "name": "stdout",
     "output_type": "stream",
     "text": [
      "Minibatch 0 0.9999185529978479\n",
      "Minibatch 1 0.9999820089864669\n",
      "Minibatch 2 0.9999887445383315\n",
      "Minibatch 3 0.9999992909945405\n",
      "Minibatch 4 0.9999997341229527\n",
      "Minibatch 5 1.0\n",
      "Minibatch 6 1.0\n",
      "Minibatch 7 1.0\n",
      "Minibatch 8 1.0\n",
      "Minibatch 9 0.9999997341229527\n"
     ]
    }
   ],
   "source": [
    "clf = linear_model.SGDClassifier(tol=1e-3, random_state=42)\n",
    "\n",
    "# Train model\n",
    "for i in np.arange(num_of_minibatches):\n",
    "    clf.partial_fit(X_train_minibatches[i], y_train_minibatches[i], classes=np.unique(y_train))\n",
    "    print('Minibatch ' + str(i) + ' ' + str(clf.score(X_train, y_train)))"
   ]
  },
  {
   "cell_type": "code",
   "execution_count": 215,
   "metadata": {},
   "outputs": [
    {
     "data": {
      "text/plain": [
       "1.0"
      ]
     },
     "execution_count": 215,
     "metadata": {},
     "output_type": "execute_result"
    }
   ],
   "source": [
    "clf.score(X_test, y_test)"
   ]
  }
 ],
 "metadata": {
  "kernelspec": {
   "display_name": "Python 3",
   "language": "python",
   "name": "python3"
  },
  "language_info": {
   "codemirror_mode": {
    "name": "ipython",
    "version": 3
   },
   "file_extension": ".py",
   "mimetype": "text/x-python",
   "name": "python",
   "nbconvert_exporter": "python",
   "pygments_lexer": "ipython3",
   "version": "3.7.4"
  }
 },
 "nbformat": 4,
 "nbformat_minor": 2
}
